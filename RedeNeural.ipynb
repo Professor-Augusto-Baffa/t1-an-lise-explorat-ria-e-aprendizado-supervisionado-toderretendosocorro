{
 "cells": [
  {
   "cell_type": "code",
   "execution_count": null,
   "id": "9e64f036-39eb-494e-a426-1ac9990a8b5d",
   "metadata": {},
   "outputs": [],
   "source": []
  }
 ],
 "metadata": {
  "kernelspec": {
   "display_name": "",
   "name": ""
  },
  "language_info": {
   "name": ""
  }
 },
 "nbformat": 4,
 "nbformat_minor": 5
}
